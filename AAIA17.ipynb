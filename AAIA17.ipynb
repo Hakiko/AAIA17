{
 "cells": [
  {
   "cell_type": "code",
   "execution_count": null,
   "metadata": {
    "collapsed": false
   },
   "outputs": [],
   "source": [
    "import numpy as np\n",
    "import pandas as pd\n",
    "from xgboost import XGBClassifier\n",
    "np.random.seed(1337)\n",
    "from sklearn.tree import ExtraTreeClassifier\n",
    "from sklearn.neural_network import MLPClassifier, MLPRegressor\n",
    "from sklearn.naive_bayes import GaussianNB\n",
    "from sklearn.svm import SVC\n",
    "from sklearn.model_selection import cross_val_score\n",
    "from sklearn.ensemble import RandomForestClassifier, BaggingClassifier, ExtraTreesClassifier, VotingClassifier\n",
    "from sklearn.metrics import accuracy_score, roc_auc_score\n",
    "from sklearn.feature_selection import RFE\n",
    "from sklearn.linear_model import LogisticRegression\n",
    "from sklearn.preprocessing import scale"
   ]
  },
  {
   "cell_type": "code",
   "execution_count": null,
   "metadata": {
    "collapsed": false
   },
   "outputs": [],
   "source": [
    "clf = MLPClassifier(\n",
    "    (20,20), \n",
    "    verbose=True, \n",
    "    max_iter=100, \n",
    "    solver='adam', \n",
    "    early_stopping=False,\n",
    "    tol=0.000001,\n",
    "    activation='relu',\n",
    "    alpha=0.001\n",
    ")\n",
    "#clf = XGBClassifier(max_depth=25)"
   ]
  },
  {
   "cell_type": "code",
   "execution_count": null,
   "metadata": {
    "collapsed": false
   },
   "outputs": [],
   "source": [
    "selected = [3, 4, 6, 7, 8, 9, 10, 11, 12, 13, 14, 15, 16, 18, 19, 20, 21, 22, 23, 24, 25, 26, 28, 30, 33, 35, 37, 38, 39, 40, 41, 42, 43, 44]\n",
    "#selected = range(2, 45)"
   ]
  },
  {
   "cell_type": "code",
   "execution_count": null,
   "metadata": {
    "collapsed": false,
    "scrolled": true
   },
   "outputs": [],
   "source": [
    "valid = pd.read_csv(\"train/4.csv\", header=0)\n",
    "y_valid = valid.ix[:,1].values.astype('int32')\n",
    "X_valid = (valid.ix[:,selected].values).astype('float32')\n",
    "\n",
    "scale(X_valid, copy=False)\n",
    "\n",
    "filename = \"train/1_2_3.csv\"\n",
    "train = pd.read_csv(filename, header=0)\n",
    "y_train = train.ix[:,1].values.astype('int32')\n",
    "X_train = (train.ix[:,selected].values).astype('float32')\n",
    "\n",
    "scale(X_train, copy=False)\n",
    "\n",
    "clf.fit(X_train, y_train)\n",
    "print(\"fitting done\")"
   ]
  },
  {
   "cell_type": "code",
   "execution_count": null,
   "metadata": {
    "collapsed": false
   },
   "outputs": [],
   "source": [
    "_y_valid = clf.predict(X_valid)\n",
    "print (\"acc: \" + str(accuracy_score(y_valid, _y_valid)))\n",
    "_y_valid_proba = clf.predict_proba(X_valid)[:,1]\n",
    "print(\"roc: \" + str(roc_auc_score(y_valid, _y_valid_proba)))"
   ]
  },
  {
   "cell_type": "code",
   "execution_count": null,
   "metadata": {
    "collapsed": false
   },
   "outputs": [],
   "source": [
    "def make_solution(model):\n",
    "    test = pd.read_csv(\"test/1.csv\", header=0)\n",
    "    X_test = (test.ix[:,selected].values).astype('float32')\n",
    "    print(len(X_test))\n",
    "\n",
    "    scale(X_test, copy=False)\n",
    "\n",
    "    _y_test = model.predict_proba(X_test)[:,1]\n",
    "    with open(\"solution.txt\", \"w\") as output:\n",
    "        for v in _y_test:\n",
    "            output.write(\"{0:.16f}\\n\".format(v))\n",
    "make_solution(clf)"
   ]
  }
 ],
 "metadata": {
  "kernelspec": {
   "display_name": "Python3.5",
   "language": "python",
   "name": "python3.5"
  },
  "language_info": {
   "codemirror_mode": {
    "name": "ipython",
    "version": 3
   },
   "file_extension": ".py",
   "mimetype": "text/x-python",
   "name": "python",
   "nbconvert_exporter": "python",
   "pygments_lexer": "ipython3",
   "version": "3.5.2"
  }
 },
 "nbformat": 4,
 "nbformat_minor": 2
}
